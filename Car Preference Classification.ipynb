{
 "cells": [
  {
   "cell_type": "code",
   "execution_count": 1,
   "id": "89a89dbe",
   "metadata": {},
   "outputs": [],
   "source": [
    "import pandas as pd\n",
    "import numpy as np\n",
    "import matplotlib.pyplot as plt"
   ]
  },
  {
   "cell_type": "code",
   "execution_count": 2,
   "id": "884ed694",
   "metadata": {},
   "outputs": [],
   "source": [
    "cars=pd.read_csv(\"archive-4/CAR DETAILS FROM CAR DEKHO.csv\")"
   ]
  },
  {
   "cell_type": "code",
   "execution_count": 3,
   "id": "0b0c66b8",
   "metadata": {},
   "outputs": [
    {
     "data": {
      "text/html": [
       "<div>\n",
       "<style scoped>\n",
       "    .dataframe tbody tr th:only-of-type {\n",
       "        vertical-align: middle;\n",
       "    }\n",
       "\n",
       "    .dataframe tbody tr th {\n",
       "        vertical-align: top;\n",
       "    }\n",
       "\n",
       "    .dataframe thead th {\n",
       "        text-align: right;\n",
       "    }\n",
       "</style>\n",
       "<table border=\"1\" class=\"dataframe\">\n",
       "  <thead>\n",
       "    <tr style=\"text-align: right;\">\n",
       "      <th></th>\n",
       "      <th>name</th>\n",
       "      <th>year</th>\n",
       "      <th>selling_price</th>\n",
       "      <th>km_driven</th>\n",
       "      <th>fuel</th>\n",
       "      <th>seller_type</th>\n",
       "      <th>transmission</th>\n",
       "      <th>owner</th>\n",
       "    </tr>\n",
       "  </thead>\n",
       "  <tbody>\n",
       "    <tr>\n",
       "      <th>0</th>\n",
       "      <td>Maruti 800 AC</td>\n",
       "      <td>2007</td>\n",
       "      <td>60000</td>\n",
       "      <td>70000</td>\n",
       "      <td>Petrol</td>\n",
       "      <td>Individual</td>\n",
       "      <td>Manual</td>\n",
       "      <td>First Owner</td>\n",
       "    </tr>\n",
       "    <tr>\n",
       "      <th>1</th>\n",
       "      <td>Maruti Wagon R LXI Minor</td>\n",
       "      <td>2007</td>\n",
       "      <td>135000</td>\n",
       "      <td>50000</td>\n",
       "      <td>Petrol</td>\n",
       "      <td>Individual</td>\n",
       "      <td>Manual</td>\n",
       "      <td>First Owner</td>\n",
       "    </tr>\n",
       "    <tr>\n",
       "      <th>2</th>\n",
       "      <td>Hyundai Verna 1.6 SX</td>\n",
       "      <td>2012</td>\n",
       "      <td>600000</td>\n",
       "      <td>100000</td>\n",
       "      <td>Diesel</td>\n",
       "      <td>Individual</td>\n",
       "      <td>Manual</td>\n",
       "      <td>First Owner</td>\n",
       "    </tr>\n",
       "    <tr>\n",
       "      <th>3</th>\n",
       "      <td>Datsun RediGO T Option</td>\n",
       "      <td>2017</td>\n",
       "      <td>250000</td>\n",
       "      <td>46000</td>\n",
       "      <td>Petrol</td>\n",
       "      <td>Individual</td>\n",
       "      <td>Manual</td>\n",
       "      <td>First Owner</td>\n",
       "    </tr>\n",
       "    <tr>\n",
       "      <th>4</th>\n",
       "      <td>Honda Amaze VX i-DTEC</td>\n",
       "      <td>2014</td>\n",
       "      <td>450000</td>\n",
       "      <td>141000</td>\n",
       "      <td>Diesel</td>\n",
       "      <td>Individual</td>\n",
       "      <td>Manual</td>\n",
       "      <td>Second Owner</td>\n",
       "    </tr>\n",
       "  </tbody>\n",
       "</table>\n",
       "</div>"
      ],
      "text/plain": [
       "                       name  year  selling_price  km_driven    fuel  \\\n",
       "0             Maruti 800 AC  2007          60000      70000  Petrol   \n",
       "1  Maruti Wagon R LXI Minor  2007         135000      50000  Petrol   \n",
       "2      Hyundai Verna 1.6 SX  2012         600000     100000  Diesel   \n",
       "3    Datsun RediGO T Option  2017         250000      46000  Petrol   \n",
       "4     Honda Amaze VX i-DTEC  2014         450000     141000  Diesel   \n",
       "\n",
       "  seller_type transmission         owner  \n",
       "0  Individual       Manual   First Owner  \n",
       "1  Individual       Manual   First Owner  \n",
       "2  Individual       Manual   First Owner  \n",
       "3  Individual       Manual   First Owner  \n",
       "4  Individual       Manual  Second Owner  "
      ]
     },
     "execution_count": 3,
     "metadata": {},
     "output_type": "execute_result"
    }
   ],
   "source": [
    "cars.head()"
   ]
  },
  {
   "cell_type": "code",
   "execution_count": 4,
   "id": "4d6ff0cd",
   "metadata": {},
   "outputs": [
    {
     "data": {
      "text/plain": [
       "name             0\n",
       "year             0\n",
       "selling_price    0\n",
       "km_driven        0\n",
       "fuel             0\n",
       "seller_type      0\n",
       "transmission     0\n",
       "owner            0\n",
       "dtype: int64"
      ]
     },
     "execution_count": 4,
     "metadata": {},
     "output_type": "execute_result"
    }
   ],
   "source": [
    "cars.isnull().sum()"
   ]
  },
  {
   "cell_type": "code",
   "execution_count": 5,
   "id": "8abab09b",
   "metadata": {},
   "outputs": [
    {
     "data": {
      "text/html": [
       "<div>\n",
       "<style scoped>\n",
       "    .dataframe tbody tr th:only-of-type {\n",
       "        vertical-align: middle;\n",
       "    }\n",
       "\n",
       "    .dataframe tbody tr th {\n",
       "        vertical-align: top;\n",
       "    }\n",
       "\n",
       "    .dataframe thead th {\n",
       "        text-align: right;\n",
       "    }\n",
       "</style>\n",
       "<table border=\"1\" class=\"dataframe\">\n",
       "  <thead>\n",
       "    <tr style=\"text-align: right;\">\n",
       "      <th></th>\n",
       "      <th>year</th>\n",
       "    </tr>\n",
       "  </thead>\n",
       "  <tbody>\n",
       "    <tr>\n",
       "      <th>count</th>\n",
       "      <td>4340.000000</td>\n",
       "    </tr>\n",
       "    <tr>\n",
       "      <th>mean</th>\n",
       "      <td>2013.090783</td>\n",
       "    </tr>\n",
       "    <tr>\n",
       "      <th>std</th>\n",
       "      <td>4.215344</td>\n",
       "    </tr>\n",
       "    <tr>\n",
       "      <th>min</th>\n",
       "      <td>1992.000000</td>\n",
       "    </tr>\n",
       "    <tr>\n",
       "      <th>25%</th>\n",
       "      <td>2011.000000</td>\n",
       "    </tr>\n",
       "    <tr>\n",
       "      <th>50%</th>\n",
       "      <td>2014.000000</td>\n",
       "    </tr>\n",
       "    <tr>\n",
       "      <th>75%</th>\n",
       "      <td>2016.000000</td>\n",
       "    </tr>\n",
       "    <tr>\n",
       "      <th>max</th>\n",
       "      <td>2020.000000</td>\n",
       "    </tr>\n",
       "  </tbody>\n",
       "</table>\n",
       "</div>"
      ],
      "text/plain": [
       "              year\n",
       "count  4340.000000\n",
       "mean   2013.090783\n",
       "std       4.215344\n",
       "min    1992.000000\n",
       "25%    2011.000000\n",
       "50%    2014.000000\n",
       "75%    2016.000000\n",
       "max    2020.000000"
      ]
     },
     "execution_count": 5,
     "metadata": {},
     "output_type": "execute_result"
    }
   ],
   "source": [
    "cars['year'].describe().to_frame()"
   ]
  },
  {
   "cell_type": "code",
   "execution_count": 6,
   "id": "5d87dc06",
   "metadata": {},
   "outputs": [
    {
     "data": {
      "text/plain": [
       "array(['Individual', 'Dealer', 'Trustmark Dealer'], dtype=object)"
      ]
     },
     "execution_count": 6,
     "metadata": {},
     "output_type": "execute_result"
    }
   ],
   "source": [
    "cars['seller_type'].unique()"
   ]
  },
  {
   "cell_type": "code",
   "execution_count": 7,
   "id": "a6c16ca5",
   "metadata": {},
   "outputs": [],
   "source": [
    "from sklearn.preprocessing import LabelEncoder\n",
    "lbl=LabelEncoder()"
   ]
  },
  {
   "cell_type": "code",
   "execution_count": 8,
   "id": "736a1ec8",
   "metadata": {},
   "outputs": [],
   "source": [
    "cars['seller_type']=lbl.fit_transform(cars['seller_type'])"
   ]
  },
  {
   "cell_type": "code",
   "execution_count": 9,
   "id": "0e0613bd",
   "metadata": {},
   "outputs": [],
   "source": [
    "cars['fuel']=cars['fuel'].map({'Petrol':1,'Diesel':2,'CNG':3,'LPG':4,'Electric':5})"
   ]
  },
  {
   "cell_type": "code",
   "execution_count": 10,
   "id": "b25c3861",
   "metadata": {},
   "outputs": [
    {
     "data": {
      "text/plain": [
       "count      4340.000000\n",
       "mean      66215.777419\n",
       "std       46644.102194\n",
       "min           1.000000\n",
       "25%       35000.000000\n",
       "50%       60000.000000\n",
       "75%       90000.000000\n",
       "max      806599.000000\n",
       "Name: km_driven, dtype: float64"
      ]
     },
     "execution_count": 10,
     "metadata": {},
     "output_type": "execute_result"
    }
   ],
   "source": [
    "cars['km_driven'].describe()"
   ]
  },
  {
   "cell_type": "code",
   "execution_count": 11,
   "id": "7e24d0b3",
   "metadata": {},
   "outputs": [],
   "source": [
    "kms=[]\n",
    "for i in cars.km_driven:\n",
    "    if i<=100000:\n",
    "        kms.append(1)\n",
    "    elif i>=400000:\n",
    "        kms.append(3)\n",
    "    else:\n",
    "        kms.append(2)\n",
    "cars['Kms Driven']=kms"
   ]
  },
  {
   "cell_type": "code",
   "execution_count": 12,
   "id": "6de175c6",
   "metadata": {},
   "outputs": [
    {
     "data": {
      "text/html": [
       "<div>\n",
       "<style scoped>\n",
       "    .dataframe tbody tr th:only-of-type {\n",
       "        vertical-align: middle;\n",
       "    }\n",
       "\n",
       "    .dataframe tbody tr th {\n",
       "        vertical-align: top;\n",
       "    }\n",
       "\n",
       "    .dataframe thead th {\n",
       "        text-align: right;\n",
       "    }\n",
       "</style>\n",
       "<table border=\"1\" class=\"dataframe\">\n",
       "  <thead>\n",
       "    <tr style=\"text-align: right;\">\n",
       "      <th></th>\n",
       "      <th>name</th>\n",
       "      <th>year</th>\n",
       "      <th>selling_price</th>\n",
       "      <th>km_driven</th>\n",
       "      <th>fuel</th>\n",
       "      <th>seller_type</th>\n",
       "      <th>transmission</th>\n",
       "      <th>owner</th>\n",
       "      <th>Kms Driven</th>\n",
       "    </tr>\n",
       "  </thead>\n",
       "  <tbody>\n",
       "    <tr>\n",
       "      <th>0</th>\n",
       "      <td>Maruti 800 AC</td>\n",
       "      <td>2007</td>\n",
       "      <td>60000</td>\n",
       "      <td>70000</td>\n",
       "      <td>1</td>\n",
       "      <td>1</td>\n",
       "      <td>Manual</td>\n",
       "      <td>First Owner</td>\n",
       "      <td>1</td>\n",
       "    </tr>\n",
       "    <tr>\n",
       "      <th>1</th>\n",
       "      <td>Maruti Wagon R LXI Minor</td>\n",
       "      <td>2007</td>\n",
       "      <td>135000</td>\n",
       "      <td>50000</td>\n",
       "      <td>1</td>\n",
       "      <td>1</td>\n",
       "      <td>Manual</td>\n",
       "      <td>First Owner</td>\n",
       "      <td>1</td>\n",
       "    </tr>\n",
       "    <tr>\n",
       "      <th>2</th>\n",
       "      <td>Hyundai Verna 1.6 SX</td>\n",
       "      <td>2012</td>\n",
       "      <td>600000</td>\n",
       "      <td>100000</td>\n",
       "      <td>2</td>\n",
       "      <td>1</td>\n",
       "      <td>Manual</td>\n",
       "      <td>First Owner</td>\n",
       "      <td>1</td>\n",
       "    </tr>\n",
       "    <tr>\n",
       "      <th>3</th>\n",
       "      <td>Datsun RediGO T Option</td>\n",
       "      <td>2017</td>\n",
       "      <td>250000</td>\n",
       "      <td>46000</td>\n",
       "      <td>1</td>\n",
       "      <td>1</td>\n",
       "      <td>Manual</td>\n",
       "      <td>First Owner</td>\n",
       "      <td>1</td>\n",
       "    </tr>\n",
       "    <tr>\n",
       "      <th>4</th>\n",
       "      <td>Honda Amaze VX i-DTEC</td>\n",
       "      <td>2014</td>\n",
       "      <td>450000</td>\n",
       "      <td>141000</td>\n",
       "      <td>2</td>\n",
       "      <td>1</td>\n",
       "      <td>Manual</td>\n",
       "      <td>Second Owner</td>\n",
       "      <td>2</td>\n",
       "    </tr>\n",
       "  </tbody>\n",
       "</table>\n",
       "</div>"
      ],
      "text/plain": [
       "                       name  year  selling_price  km_driven  fuel  \\\n",
       "0             Maruti 800 AC  2007          60000      70000     1   \n",
       "1  Maruti Wagon R LXI Minor  2007         135000      50000     1   \n",
       "2      Hyundai Verna 1.6 SX  2012         600000     100000     2   \n",
       "3    Datsun RediGO T Option  2017         250000      46000     1   \n",
       "4     Honda Amaze VX i-DTEC  2014         450000     141000     2   \n",
       "\n",
       "   seller_type transmission         owner  Kms Driven  \n",
       "0            1       Manual   First Owner           1  \n",
       "1            1       Manual   First Owner           1  \n",
       "2            1       Manual   First Owner           1  \n",
       "3            1       Manual   First Owner           1  \n",
       "4            1       Manual  Second Owner           2  "
      ]
     },
     "execution_count": 12,
     "metadata": {},
     "output_type": "execute_result"
    }
   ],
   "source": [
    "cars.head(5)"
   ]
  },
  {
   "cell_type": "code",
   "execution_count": 13,
   "id": "e7723c30",
   "metadata": {},
   "outputs": [
    {
     "data": {
      "text/plain": [
       "array([  60000,  135000,  600000,  250000,  450000,  140000,  550000,\n",
       "        240000,  850000,  365000,  260000, 1650000,  585000, 1195000,\n",
       "        390000, 1964999, 1425000,  975000, 1190000,  930000,  525000,\n",
       "       1735000, 1375000,  900000, 1300000, 1400000,  229999, 1550000,\n",
       "       1250000,  625000, 1050000,  560000,  290000,  275000,  411000,\n",
       "        150000,  500000,  100000,  725000,  401000,  750000,  310000,\n",
       "        665000,  465000,  160000,  675000,  300000,   70000,  151000,\n",
       "        280000,  350000,  570000,  125000,  130000,  925000,  200000,\n",
       "        248000,   80000,  650000,  495000,  371000, 1025000, 8150000,\n",
       "        325000, 1470000, 2800000,  210000, 1150000, 4500000, 2750000,\n",
       "       1975000,  175000, 2500000,  628000,  399000,  315000,  780000,\n",
       "        434000,  690000,  555000,  120000,  165000,   95000,  800000,\n",
       "        840000,  490000,  400000, 1000000,  530000,   40000,   75000,\n",
       "        540000,  700000,  430000,   65000,  195000,  170000,  225000,\n",
       "         99000,  620000, 2550000,  320000,  810000,  282000,   72000,\n",
       "        640000,  380000, 1500000,  434999,  190000, 2900000,  425000,\n",
       "        265000,  890000,  685000,  940000,  590000,  385000, 2000000,\n",
       "        235000,   52000,   89999,  180000,  285000, 1075000,   90000,\n",
       "        220000,  110000,  880000,  115999,  360000,  680000,  860000,\n",
       "        270000,  395000,  624000,  345000,  106000, 1800000,  575000,\n",
       "        370000,   50000,   55000,  755000,  720000, 1100000,  159000,\n",
       "        335000,  185000,  470000,  145000,  595000, 1600000,  105000,\n",
       "        409999,  215000,  475000,  330000, 1044999, 1350000,  420000,\n",
       "        760000,   43000, 1850000, 1125000,  133000,  352000,  520000,\n",
       "        509999,  556000,  484999,  565000,  295000, 2050000, 1475000,\n",
       "       4400000,  670000,  770000,  775000, 1725000, 2150000, 3800000,\n",
       "       1580000, 4950000,  535000,  239000, 2600000,  114999,  200999,\n",
       "        710000,  969999,  155000,  138000,  311000,   58000,  183000,\n",
       "        825000,  299000,  639000,  415000, 1199000,  699000,  269000,\n",
       "        249000, 1549000,  254999,  211000,  599000, 4000000, 1200000,\n",
       "         98000,  790000, 1700000,   68000,  875000, 1330000,  919999,\n",
       "        611000,  711000,  851000,  610000,  744000,  480000,  950000,\n",
       "         85000,  615000,  227000,  222000,  735000,  271000, 1490000,\n",
       "        455000,  421000, 2700000, 4700000, 1900000, 1770000,  660000,\n",
       "        716000,  147000, 1140000, 3050000,  375000, 1950000,  340000,\n",
       "       3100000,  245000,  715000, 1750000, 3500000,  835000, 2490000,\n",
       "       1015000,   91200, 2400000,  635000,  302000,  204999,  341000,\n",
       "        819999,  351000,  630000, 1085000,  580000,   78000, 3200000,\n",
       "        695000,  355000,  619000,   81000,  486000,  802000, 2300000,\n",
       "        287000,  250999,   45000, 1485000, 1825000, 3256000,  451000,\n",
       "        149000,  163000,  419000,  990000,  346000,  509000,   69000,\n",
       "       1380000,  256000,   97000,  199000, 2595000,  730000,  368000,\n",
       "        545000,  641000,  784000,  324000, 2100000,  305000,  221000,\n",
       "        828999, 1119000,  746000, 1030000, 1334000,  811999, 1331000,\n",
       "        852000,  830000,  213000,   35000,  869999,  178000,  515000,\n",
       "        312000,  111000,  774000,  148000,   57000,  284000,  349000,\n",
       "        458000,  381000,  751000,  782000,  321000,   92800,  291000,\n",
       "         73000,  655000,  263000,  217000,  539000,  142000,  910000,\n",
       "        740000,  164000,  999000,   56000, 3899000,  440000,  238000,\n",
       "       1295000,  541000,  894999,  844999,  288000, 1225000, 1010000,\n",
       "         30000,  396000,  281000,   93000,  459999,   88000,   22000,\n",
       "         79000,  198000,  182000,  861999,  836000,  696000,  596000,\n",
       "        612000,   20000,   61000,  511000, 1230000,  426000,   62000,\n",
       "       1450000,   71000, 2200000, 1249000, 1240000, 1068000, 1189000,\n",
       "        363000,  821000,  815000,  738000,  765000,  516000,  134000,\n",
       "        347000, 2650000, 2675000,  359000,  980000,  707000,  471000,\n",
       "        377000,  763000,  701000,  277000,  936999,   82000,  799000,\n",
       "       1451000, 1575000,   78692,  479000,   48000,  121000,  785000,\n",
       "        173000, 4800000,  587000,  123000, 1290000,  193000,  721000,\n",
       "       1040000, 2349000, 1165000,   42000, 1680000,  231999,  841000,\n",
       "       1280000, 1090000,  449000,  724000,  126000,  795000, 2575000,\n",
       "       1035000, 1260000, 8900000, 1860000, 4200000, 5500000,  430999,\n",
       "       1151000,  927999,   51111,  212000,  428000,  219000,  749000,\n",
       "        233000,  614000,   37500,  865000])"
      ]
     },
     "execution_count": 13,
     "metadata": {},
     "output_type": "execute_result"
    }
   ],
   "source": [
    "cars['selling_price'].unique()"
   ]
  },
  {
   "cell_type": "code",
   "execution_count": 14,
   "id": "7ff6af9d",
   "metadata": {},
   "outputs": [],
   "source": [
    "cars['transmission']=cars['transmission'].map({'Manual':1,'Automatic':2})"
   ]
  },
  {
   "cell_type": "code",
   "execution_count": 15,
   "id": "ccdf60a6",
   "metadata": {},
   "outputs": [
    {
     "data": {
      "text/html": [
       "<div>\n",
       "<style scoped>\n",
       "    .dataframe tbody tr th:only-of-type {\n",
       "        vertical-align: middle;\n",
       "    }\n",
       "\n",
       "    .dataframe tbody tr th {\n",
       "        vertical-align: top;\n",
       "    }\n",
       "\n",
       "    .dataframe thead th {\n",
       "        text-align: right;\n",
       "    }\n",
       "</style>\n",
       "<table border=\"1\" class=\"dataframe\">\n",
       "  <thead>\n",
       "    <tr style=\"text-align: right;\">\n",
       "      <th></th>\n",
       "      <th>name</th>\n",
       "      <th>year</th>\n",
       "      <th>selling_price</th>\n",
       "      <th>km_driven</th>\n",
       "      <th>fuel</th>\n",
       "      <th>seller_type</th>\n",
       "      <th>transmission</th>\n",
       "      <th>owner</th>\n",
       "      <th>Kms Driven</th>\n",
       "    </tr>\n",
       "  </thead>\n",
       "  <tbody>\n",
       "    <tr>\n",
       "      <th>0</th>\n",
       "      <td>Maruti 800 AC</td>\n",
       "      <td>2007</td>\n",
       "      <td>60000</td>\n",
       "      <td>70000</td>\n",
       "      <td>1</td>\n",
       "      <td>1</td>\n",
       "      <td>1</td>\n",
       "      <td>First Owner</td>\n",
       "      <td>1</td>\n",
       "    </tr>\n",
       "    <tr>\n",
       "      <th>1</th>\n",
       "      <td>Maruti Wagon R LXI Minor</td>\n",
       "      <td>2007</td>\n",
       "      <td>135000</td>\n",
       "      <td>50000</td>\n",
       "      <td>1</td>\n",
       "      <td>1</td>\n",
       "      <td>1</td>\n",
       "      <td>First Owner</td>\n",
       "      <td>1</td>\n",
       "    </tr>\n",
       "    <tr>\n",
       "      <th>2</th>\n",
       "      <td>Hyundai Verna 1.6 SX</td>\n",
       "      <td>2012</td>\n",
       "      <td>600000</td>\n",
       "      <td>100000</td>\n",
       "      <td>2</td>\n",
       "      <td>1</td>\n",
       "      <td>1</td>\n",
       "      <td>First Owner</td>\n",
       "      <td>1</td>\n",
       "    </tr>\n",
       "    <tr>\n",
       "      <th>3</th>\n",
       "      <td>Datsun RediGO T Option</td>\n",
       "      <td>2017</td>\n",
       "      <td>250000</td>\n",
       "      <td>46000</td>\n",
       "      <td>1</td>\n",
       "      <td>1</td>\n",
       "      <td>1</td>\n",
       "      <td>First Owner</td>\n",
       "      <td>1</td>\n",
       "    </tr>\n",
       "    <tr>\n",
       "      <th>4</th>\n",
       "      <td>Honda Amaze VX i-DTEC</td>\n",
       "      <td>2014</td>\n",
       "      <td>450000</td>\n",
       "      <td>141000</td>\n",
       "      <td>2</td>\n",
       "      <td>1</td>\n",
       "      <td>1</td>\n",
       "      <td>Second Owner</td>\n",
       "      <td>2</td>\n",
       "    </tr>\n",
       "  </tbody>\n",
       "</table>\n",
       "</div>"
      ],
      "text/plain": [
       "                       name  year  selling_price  km_driven  fuel  \\\n",
       "0             Maruti 800 AC  2007          60000      70000     1   \n",
       "1  Maruti Wagon R LXI Minor  2007         135000      50000     1   \n",
       "2      Hyundai Verna 1.6 SX  2012         600000     100000     2   \n",
       "3    Datsun RediGO T Option  2017         250000      46000     1   \n",
       "4     Honda Amaze VX i-DTEC  2014         450000     141000     2   \n",
       "\n",
       "   seller_type  transmission         owner  Kms Driven  \n",
       "0            1             1   First Owner           1  \n",
       "1            1             1   First Owner           1  \n",
       "2            1             1   First Owner           1  \n",
       "3            1             1   First Owner           1  \n",
       "4            1             1  Second Owner           2  "
      ]
     },
     "execution_count": 15,
     "metadata": {},
     "output_type": "execute_result"
    }
   ],
   "source": [
    "cars.head()"
   ]
  },
  {
   "cell_type": "code",
   "execution_count": 16,
   "id": "3205274d",
   "metadata": {},
   "outputs": [],
   "source": [
    "cars['owner']=cars['owner'].map({'First Owner':1,'Second Owner':2,'Third Owner':3,'Fourth & Above Owner':4,'Test Drive Car':5})"
   ]
  },
  {
   "cell_type": "code",
   "execution_count": 17,
   "id": "0da287c3",
   "metadata": {},
   "outputs": [],
   "source": [
    "sp=[]\n",
    "for j in cars.selling_price:\n",
    "    if j<=500000:\n",
    "        sp.append(1)\n",
    "    elif j>=2000000:\n",
    "        sp.append(3)\n",
    "    else:\n",
    "        sp.append(2)\n",
    "cars['sprice']=sp"
   ]
  },
  {
   "cell_type": "code",
   "execution_count": 18,
   "id": "84dcd4c0",
   "metadata": {},
   "outputs": [],
   "source": [
    "from sklearn.model_selection import train_test_split\n",
    "from sklearn.ensemble import RandomForestClassifier\n",
    "rf=RandomForestClassifier(n_estimators=500)"
   ]
  },
  {
   "cell_type": "code",
   "execution_count": 19,
   "id": "1122d9f6",
   "metadata": {},
   "outputs": [],
   "source": [
    "x=pd.DataFrame()\n",
    "x=cars"
   ]
  },
  {
   "cell_type": "code",
   "execution_count": 20,
   "id": "0a4c842b",
   "metadata": {},
   "outputs": [
    {
     "data": {
      "text/plain": [
       "(4340, 10)"
      ]
     },
     "execution_count": 20,
     "metadata": {},
     "output_type": "execute_result"
    }
   ],
   "source": [
    "x.shape"
   ]
  },
  {
   "cell_type": "code",
   "execution_count": 21,
   "id": "a7a98d38",
   "metadata": {},
   "outputs": [],
   "source": [
    "x=x.drop(columns={'selling_price','name','km_driven'})"
   ]
  },
  {
   "cell_type": "code",
   "execution_count": 22,
   "id": "8f051fcf",
   "metadata": {},
   "outputs": [
    {
     "data": {
      "text/html": [
       "<div>\n",
       "<style scoped>\n",
       "    .dataframe tbody tr th:only-of-type {\n",
       "        vertical-align: middle;\n",
       "    }\n",
       "\n",
       "    .dataframe tbody tr th {\n",
       "        vertical-align: top;\n",
       "    }\n",
       "\n",
       "    .dataframe thead th {\n",
       "        text-align: right;\n",
       "    }\n",
       "</style>\n",
       "<table border=\"1\" class=\"dataframe\">\n",
       "  <thead>\n",
       "    <tr style=\"text-align: right;\">\n",
       "      <th></th>\n",
       "      <th>year</th>\n",
       "      <th>fuel</th>\n",
       "      <th>seller_type</th>\n",
       "      <th>transmission</th>\n",
       "      <th>owner</th>\n",
       "      <th>Kms Driven</th>\n",
       "      <th>sprice</th>\n",
       "    </tr>\n",
       "  </thead>\n",
       "  <tbody>\n",
       "    <tr>\n",
       "      <th>0</th>\n",
       "      <td>2007</td>\n",
       "      <td>1</td>\n",
       "      <td>1</td>\n",
       "      <td>1</td>\n",
       "      <td>1</td>\n",
       "      <td>1</td>\n",
       "      <td>1</td>\n",
       "    </tr>\n",
       "    <tr>\n",
       "      <th>1</th>\n",
       "      <td>2007</td>\n",
       "      <td>1</td>\n",
       "      <td>1</td>\n",
       "      <td>1</td>\n",
       "      <td>1</td>\n",
       "      <td>1</td>\n",
       "      <td>1</td>\n",
       "    </tr>\n",
       "    <tr>\n",
       "      <th>2</th>\n",
       "      <td>2012</td>\n",
       "      <td>2</td>\n",
       "      <td>1</td>\n",
       "      <td>1</td>\n",
       "      <td>1</td>\n",
       "      <td>1</td>\n",
       "      <td>2</td>\n",
       "    </tr>\n",
       "    <tr>\n",
       "      <th>3</th>\n",
       "      <td>2017</td>\n",
       "      <td>1</td>\n",
       "      <td>1</td>\n",
       "      <td>1</td>\n",
       "      <td>1</td>\n",
       "      <td>1</td>\n",
       "      <td>1</td>\n",
       "    </tr>\n",
       "    <tr>\n",
       "      <th>4</th>\n",
       "      <td>2014</td>\n",
       "      <td>2</td>\n",
       "      <td>1</td>\n",
       "      <td>1</td>\n",
       "      <td>2</td>\n",
       "      <td>2</td>\n",
       "      <td>1</td>\n",
       "    </tr>\n",
       "  </tbody>\n",
       "</table>\n",
       "</div>"
      ],
      "text/plain": [
       "   year  fuel  seller_type  transmission  owner  Kms Driven  sprice\n",
       "0  2007     1            1             1      1           1       1\n",
       "1  2007     1            1             1      1           1       1\n",
       "2  2012     2            1             1      1           1       2\n",
       "3  2017     1            1             1      1           1       1\n",
       "4  2014     2            1             1      2           2       1"
      ]
     },
     "execution_count": 22,
     "metadata": {},
     "output_type": "execute_result"
    }
   ],
   "source": [
    "x.head()"
   ]
  },
  {
   "cell_type": "code",
   "execution_count": 23,
   "id": "f49e7684",
   "metadata": {},
   "outputs": [],
   "source": [
    "y=pd.DataFrame()\n",
    "y['sellprice']=x['sprice']"
   ]
  },
  {
   "cell_type": "code",
   "execution_count": 24,
   "id": "3333703d",
   "metadata": {},
   "outputs": [],
   "source": [
    "x=x.drop(columns={'sprice'})"
   ]
  },
  {
   "cell_type": "code",
   "execution_count": 25,
   "id": "046fd347",
   "metadata": {},
   "outputs": [],
   "source": [
    "x_train,x_test,y_train,y_test=train_test_split(x,y,test_size=0.30,random_state=1)"
   ]
  },
  {
   "cell_type": "code",
   "execution_count": 26,
   "id": "f8cba906",
   "metadata": {},
   "outputs": [
    {
     "data": {
      "text/plain": [
       "RandomForestClassifier(n_estimators=500)"
      ]
     },
     "execution_count": 26,
     "metadata": {},
     "output_type": "execute_result"
    }
   ],
   "source": [
    "rf.fit(x_train,np.ravel(y_train))"
   ]
  },
  {
   "cell_type": "code",
   "execution_count": 27,
   "id": "2da52ddb",
   "metadata": {},
   "outputs": [],
   "source": [
    "y_pred=rf.predict(x_test)"
   ]
  },
  {
   "cell_type": "code",
   "execution_count": 28,
   "id": "1c0037ee",
   "metadata": {},
   "outputs": [
    {
     "data": {
      "text/plain": [
       "0.8164362519201229"
      ]
     },
     "execution_count": 28,
     "metadata": {},
     "output_type": "execute_result"
    }
   ],
   "source": [
    "rf.score(x_test,np.ravel(y_test))"
   ]
  },
  {
   "cell_type": "code",
   "execution_count": 29,
   "id": "7c1d8dba",
   "metadata": {},
   "outputs": [],
   "source": [
    "from sklearn.metrics import accuracy_score"
   ]
  },
  {
   "cell_type": "code",
   "execution_count": 30,
   "id": "8022c61d",
   "metadata": {},
   "outputs": [
    {
     "data": {
      "text/plain": [
       "0.8164362519201229"
      ]
     },
     "execution_count": 30,
     "metadata": {},
     "output_type": "execute_result"
    }
   ],
   "source": [
    "accscore=accuracy_score(y_test,y_pred)\n",
    "accscore"
   ]
  },
  {
   "cell_type": "code",
   "execution_count": 31,
   "id": "f6450d5a",
   "metadata": {},
   "outputs": [
    {
     "name": "stdout",
     "output_type": "stream",
     "text": [
      "[0.81221198 0.82603687 0.84447005 0.82488479 0.77534562]\n",
      "0.8165898617511521\n"
     ]
    }
   ],
   "source": [
    "from sklearn.model_selection import cross_val_score,KFold\n",
    "cv_score=cross_val_score(rf,x,np.ravel(y),cv=KFold(n_splits=5))\n",
    "print(cv_score)\n",
    "print(sum(cv_score)/len(cv_score))"
   ]
  },
  {
   "cell_type": "code",
   "execution_count": 32,
   "id": "221adcec",
   "metadata": {},
   "outputs": [
    {
     "data": {
      "text/html": [
       "<div>\n",
       "<style scoped>\n",
       "    .dataframe tbody tr th:only-of-type {\n",
       "        vertical-align: middle;\n",
       "    }\n",
       "\n",
       "    .dataframe tbody tr th {\n",
       "        vertical-align: top;\n",
       "    }\n",
       "\n",
       "    .dataframe thead th {\n",
       "        text-align: right;\n",
       "    }\n",
       "</style>\n",
       "<table border=\"1\" class=\"dataframe\">\n",
       "  <thead>\n",
       "    <tr style=\"text-align: right;\">\n",
       "      <th></th>\n",
       "      <th>RF</th>\n",
       "    </tr>\n",
       "  </thead>\n",
       "  <tbody>\n",
       "    <tr>\n",
       "      <th>Kms Driven</th>\n",
       "      <td>0.027913</td>\n",
       "    </tr>\n",
       "    <tr>\n",
       "      <th>owner</th>\n",
       "      <td>0.078580</td>\n",
       "    </tr>\n",
       "    <tr>\n",
       "      <th>seller_type</th>\n",
       "      <td>0.085455</td>\n",
       "    </tr>\n",
       "    <tr>\n",
       "      <th>transmission</th>\n",
       "      <td>0.132224</td>\n",
       "    </tr>\n",
       "    <tr>\n",
       "      <th>fuel</th>\n",
       "      <td>0.172982</td>\n",
       "    </tr>\n",
       "    <tr>\n",
       "      <th>year</th>\n",
       "      <td>0.502846</td>\n",
       "    </tr>\n",
       "  </tbody>\n",
       "</table>\n",
       "</div>"
      ],
      "text/plain": [
       "                    RF\n",
       "Kms Driven    0.027913\n",
       "owner         0.078580\n",
       "seller_type   0.085455\n",
       "transmission  0.132224\n",
       "fuel          0.172982\n",
       "year          0.502846"
      ]
     },
     "execution_count": 32,
     "metadata": {},
     "output_type": "execute_result"
    }
   ],
   "source": [
    "m=pd.DataFrame()\n",
    "m=cars\n",
    "feature_importance=pd.DataFrame({'RF':rf.feature_importances_},index=m.drop(columns=['name','selling_price','km_driven','sprice']).columns)\n",
    "feature_importance.sort_values(by='RF',ascending=True,inplace=True)\n",
    "feature_importance"
   ]
  },
  {
   "cell_type": "code",
   "execution_count": 33,
   "id": "1da5857d",
   "metadata": {},
   "outputs": [
    {
     "data": {
      "image/png": "[encoded data removed]",
      "text/plain": [
       "<Figure size 1296x576 with 1 Axes>"
      ]
     },
     "metadata": {
      "needs_background": "light"
     },
     "output_type": "display_data"
    }
   ],
   "source": [
    "index = np.arange(len(feature_importance))\n",
    "fig, ax = plt.subplots(figsize=(18,8))\n",
    "rfc_feature=ax.barh(index,feature_importance['RF'],0.7,color='maroon')\n",
    "plt.xlabel('Importance',fontsize=21)\n",
    "plt.ylabel('Features',fontsize=21)\n",
    "ax.set(yticks=index+0.1,yticklabels=feature_importance.index)\n",
    "plt.show()"
   ]
  },
  {
   "cell_type": "code",
   "execution_count": null,
   "id": "7ccf3c7f",
   "metadata": {},
   "outputs": [],
   "source": []
  }
 ],
 "metadata": {
  "kernelspec": {
   "display_name": "Python 3 (ipykernel)",
   "language": "python",
   "name": "python3"
  },
  "language_info": {
   "codemirror_mode": {
    "name": "ipython",
    "version": 3
   },
   "file_extension": ".py",
   "mimetype": "text/x-python",
   "name": "python",
   "nbconvert_exporter": "python",
   "pygments_lexer": "ipython3",
   "version": "3.9.7"
  }
 },
 "nbformat": 4,
 "nbformat_minor": 5
}
